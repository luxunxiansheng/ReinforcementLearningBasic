{
 "metadata": {
  "language_info": {
   "codemirror_mode": {
    "name": "ipython",
    "version": 3
   },
   "file_extension": ".py",
   "mimetype": "text/x-python",
   "name": "python",
   "nbconvert_exporter": "python",
   "pygments_lexer": "ipython3",
   "version": "3.7.6-final"
  },
  "orig_nbformat": 2,
  "kernelspec": {
   "name": "python_defaultSpec_1599103099926",
   "display_name": "Python 3.7.6 64-bit ('base': conda)"
  }
 },
 "nbformat": 4,
 "nbformat_minor": 2,
 "cells": [
  {
   "cell_type": "code",
   "execution_count": 1,
   "metadata": {},
   "outputs": [],
   "source": [
    "import sys\n",
    "sys.path.append(\"/home/ornot/workspace/ReinforcementLearningBasic/work\")"
   ]
  },
  {
   "cell_type": "code",
   "execution_count": 2,
   "metadata": {},
   "outputs": [],
   "source": [
    "from test_setup import get_env"
   ]
  },
  {
   "cell_type": "code",
   "execution_count": 3,
   "metadata": {},
   "outputs": [],
   "source": [
    "from algorithm.value_based.tabular_solution_method.dynamic_programming.policy_iteration import PolicyIteration\n",
    "\n",
    "from policy.policy import TabularPolicy"
   ]
  },
  {
   "cell_type": "code",
   "execution_count": 4,
   "metadata": {},
   "outputs": [],
   "source": [
    "def test_policy_iteration(env):\n",
    "    v_table = env.build_V_table()\n",
    "    transition_table = env.P\n",
    "    policy_table = env.build_policy_table()\n",
    "    table_policy = TabularPolicy(policy_table)\n",
    "    rl_method = PolicyIteration(v_table, table_policy,transition_table,delta=1e-5,discount=1.0)\n",
    "    optimal_policy =rl_method.improve()\n",
    "    env.show_policy(optimal_policy)"
   ]
  },
  {
   "cell_type": "code",
   "execution_count": 5,
   "metadata": {
    "tags": []
   },
   "outputs": [
    {
     "output_type": "stream",
     "name": "stdout",
     "text": "^ < < < < < < < < < < < < < < < < < < <\n^ ^ < < < < < < < < < < < < < < < < < V\n^ ^ ^ < < < < < < < < < < < < < < < V V\n^ ^ ^ ^ < < < < < < < < < < < < < V V V\n^ ^ ^ ^ ^ < < < < < < < < < < < V V V V\n^ ^ ^ ^ ^ < < < < < < < < < < V V V V V\n^ ^ ^ ^ ^ ^ ^ < < < < < < < V V V V V V\n^ ^ ^ ^ ^ ^ ^ ^ < < < < < V V V V V V V\n^ ^ ^ ^ ^ ^ ^ ^ ^ < < < V V V V V V V V\n^ ^ ^ ^ ^ ^ ^ ^ ^ < < V V V V V V V V V\n^ ^ ^ ^ ^ ^ ^ ^ ^ ^ > V V V V V V V V V\n^ ^ ^ ^ ^ ^ ^ ^ ^ > > > V V V V V V V V\n^ ^ ^ ^ ^ ^ ^ ^ > > > > > V V V V V V V\n^ ^ ^ ^ ^ ^ ^ > > > > > > > V V V V V V\n^ ^ ^ ^ ^ ^ > > > > > > > > > V V V V V\n^ ^ ^ ^ ^ > > > > > > > > > > > V V V V\n^ ^ ^ ^ > > > > > > > > > > > > > V V V\n^ ^ ^ > > > > > > > > > > > > > > > V V\n^ ^ > > > > > > > > > > > > > > > > > V\n^ > > > > > > > > > > > > > > > > > > ^\n"
    }
   ],
   "source": [
    "real_env = get_env(\"grid_world\")\n",
    "test_policy_iteration(real_env)"
   ]
  }
 ]
}